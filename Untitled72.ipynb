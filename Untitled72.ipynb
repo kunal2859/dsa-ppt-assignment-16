{
 "cells": [
  {
   "cell_type": "code",
   "execution_count": 2,
   "id": "e9657299",
   "metadata": {},
   "outputs": [
    {
     "data": {
      "text/plain": [
       "[3, 4, 4, -1]"
      ]
     },
     "execution_count": 2,
     "metadata": {},
     "output_type": "execute_result"
    }
   ],
   "source": [
    "def nextLargerElement(arr, n):\n",
    "    s = []\n",
    "    for i in range(len(arr)):\n",
    "        while s and s[-1].get(\"value\") < arr[i]:\n",
    "            d = s.pop()\n",
    "            arr[d.get(\"ind\")] = arr[i]\n",
    "        s.append({\"value\": arr[i], \"ind\": i})\n",
    "    while s:\n",
    "        d = s.pop()\n",
    "        arr[d.get(\"ind\")] = -1\n",
    "    return arr\n",
    "\n",
    "arr=[1,3,2,4]\n",
    "n=len(arr)\n",
    "nextLargerElement(arr,n)"
   ]
  },
  {
   "cell_type": "code",
   "execution_count": 6,
   "id": "91afbc08",
   "metadata": {},
   "outputs": [
    {
     "name": "stdout",
     "output_type": "stream",
     "text": [
      "-1, 1, 1, "
     ]
    }
   ],
   "source": [
    "import math as mt\n",
    "def prevSmaller(arr, n):\n",
    "    S = list()\n",
    "    for i in range(n):\n",
    "        while (len(S) > 0 and S[-1] >= arr[i]):\n",
    "            S.pop()\n",
    "        if (len(S) == 0):\n",
    "            print(\"-1, \", end = \"\")\n",
    "        else:\n",
    "            print(S[-1], end = \", \")\n",
    "        S.append(arr[i])\n",
    "\n",
    "arr=[1,6,2]\n",
    "n=len(arr)\n",
    "prevSmaller(arr,n)"
   ]
  },
  {
   "cell_type": "code",
   "execution_count": 10,
   "id": "188483aa",
   "metadata": {},
   "outputs": [
    {
     "name": "stdout",
     "output_type": "stream",
     "text": [
      "2\n"
     ]
    }
   ],
   "source": [
    "from _collections import deque\n",
    "class Stack:\n",
    "    def __init__(self):\n",
    "        self.q1 = deque()\n",
    "        self.q2 = deque()\n",
    "    def push(self, x):\n",
    "        self.q2.append(x)\n",
    "        while (self.q1):\n",
    "            self.q2.append(self.q1.popleft())\n",
    "        self.q1, self.q2 = self.q2, self.q1\n",
    "\n",
    "    def pop(self):\n",
    "        if self.q1:\n",
    "            self.q1.popleft()\n",
    "\n",
    "    def top(self):\n",
    "        if (self.q1):\n",
    "            return self.q1[0]\n",
    "        return None\n",
    "\n",
    "    def size(self):\n",
    "        return len(self.q1)\n",
    "\n",
    "s=Stack()\n",
    "s.push(2)\n",
    "s.push(3)\n",
    "s.pop()\n",
    "s.push(4)\n",
    "s.pop()\n",
    "print(s.top())"
   ]
  },
  {
   "cell_type": "code",
   "execution_count": 12,
   "id": "423a239c",
   "metadata": {},
   "outputs": [
    {
     "name": "stdout",
     "output_type": "stream",
     "text": [
      "3 2 1 7 6 \n"
     ]
    }
   ],
   "source": [
    "def insertAtBottom(stack, item):\n",
    "    if isEmpty(stack):\n",
    "        push(stack, item)\n",
    "    else:\n",
    "        temp = pop(stack)\n",
    "        insertAtBottom(stack, item)\n",
    "        push(stack, temp)\n",
    "def reverse(stack):\n",
    "    if not isEmpty(stack):\n",
    "        temp = pop(stack)\n",
    "        reverse(stack)\n",
    "        insertAtBottom(stack, temp)\n",
    " \n",
    " \n",
    "def createStack():\n",
    "    stack = []\n",
    "    return stack\n",
    " \n",
    "def isEmpty(stack):\n",
    "    return len(stack) == 0\n",
    " \n",
    "def push(stack, item):\n",
    "    stack.append(item)\n",
    "    \n",
    "def pop(stack):\n",
    "    if(isEmpty(stack)):\n",
    "        print(\"Stack Underflow \")\n",
    "        exit(1)\n",
    " \n",
    "    return stack.pop()\n",
    " \n",
    "def prints(stack):\n",
    "    for i in range(len(stack)-1, -1, -1):\n",
    "        print(stack[i], end=' ')\n",
    "    print()\n",
    "    \n",
    "stack = createStack()\n",
    "push(stack, str(3))\n",
    "push(stack, str(2))\n",
    "push(stack, str(1))\n",
    "push(stack, str(7))\n",
    "push(stack, str(6))\n",
    "reverse(stack)\n",
    "prints(stack)"
   ]
  },
  {
   "cell_type": "code",
   "execution_count": 14,
   "id": "3372c99d",
   "metadata": {},
   "outputs": [
    {
     "name": "stdout",
     "output_type": "stream",
     "text": [
      "skeeGrofskeeG\n"
     ]
    }
   ],
   "source": [
    "def createStack():\n",
    "    stack = []\n",
    "    return stack\n",
    " \n",
    "def size(stack):\n",
    "    return len(stack)\n",
    " \n",
    "def isEmpty(stack):\n",
    "    if size(stack) == 0:\n",
    "        return true\n",
    "    \n",
    "def push(stack, item):\n",
    "    stack.append(item)\n",
    "    \n",
    "def pop(stack):\n",
    "    if isEmpty(stack):\n",
    "        return\n",
    "    return stack.pop()\n",
    " \n",
    "def reverse(string):\n",
    "    n = len(string)\n",
    "    stack = createStack()\n",
    "    for i in range(0, n):\n",
    "        push(stack, string[i])\n",
    "    string = \"\"\n",
    "    for i in range(0, n):\n",
    "        string += pop(stack)\n",
    " \n",
    "    return string\n",
    " \n",
    "string = \"GeeksforGeeks\"\n",
    "string = reverse(string)\n",
    "print(string)"
   ]
  },
  {
   "cell_type": "code",
   "execution_count": 16,
   "id": "ab5a9e29",
   "metadata": {},
   "outputs": [
    {
     "name": "stdout",
     "output_type": "stream",
     "text": [
      "-4\n"
     ]
    }
   ],
   "source": [
    "class Evaluate:\n",
    "    def __init__(self, capacity):\n",
    "        self.top = -1\n",
    "        self.capacity = capacity\n",
    "        self.array = []\n",
    " \n",
    "    def isEmpty(self):\n",
    "        return True if self.top == -1 else False\n",
    " \n",
    "    def peek(self):\n",
    "        return self.array[-1]\n",
    " \n",
    "    def pop(self):\n",
    "        if not self.isEmpty():\n",
    "            self.top -= 1\n",
    "            return self.array.pop()\n",
    "        else:\n",
    "            return \"$\"\n",
    " \n",
    "    def push(self, op):\n",
    "        self.top += 1\n",
    "        self.array.append(op)\n",
    " \n",
    "    def evaluatePostfix(self, exp):\n",
    "        for i in exp:\n",
    "            if i.isdigit():\n",
    "                self.push(i)\n",
    "            else:\n",
    "                val1 = self.pop()\n",
    "                val2 = self.pop()\n",
    "                self.push(str(eval(val2 + i + val1)))\n",
    " \n",
    "        return int(self.pop())\n",
    " \n",
    "if __name__ == '__main__':\n",
    "    exp = \"231*+9-\"\n",
    "    obj = Evaluate(len(exp))\n",
    "    print(obj.evaluatePostfix(exp))"
   ]
  },
  {
   "cell_type": "code",
   "execution_count": 27,
   "id": "2ea7cdf0",
   "metadata": {},
   "outputs": [
    {
     "name": "stdout",
     "output_type": "stream",
     "text": [
      "None\n",
      "None\n",
      "None\n",
      "-3\n",
      "None\n",
      "None\n",
      "-2\n"
     ]
    }
   ],
   "source": [
    "class MinStack:\n",
    "    def __init__(self):\n",
    "        self.stack = []\n",
    "        self.minstack = []\n",
    "\n",
    "    def push(self, val: int) -> None:\n",
    "        if not self.stack:\n",
    "            self.stack.append(val)\n",
    "            self.minstack.append(val)\n",
    "        else:\n",
    "            if val < self.minstack[-1]:\n",
    "                self.minstack.append(val)\n",
    "                self.stack.append(val)\n",
    "            else:\n",
    "                self.stack.append(val)\n",
    "                self.minstack.append(self.minstack[-1])\n",
    "\n",
    "    def pop(self) -> None:\n",
    "        self.stack.pop()\n",
    "        self.minstack.pop()\n",
    "\n",
    "    def top(self) -> int:\n",
    "        return self.stack[-1]\n",
    "\n",
    "    def getMin(self) -> int:\n",
    "        return self.minstack[-1]\n",
    "    \n",
    "minstack=MinStack()    \n",
    "print(minstack.push(-2))\n",
    "print(minstack.push(0))\n",
    "print(minstack.push(-3))\n",
    "print(minstack.getMin())\n",
    "print(minstack.pop())\n",
    "print(minstack.pop())\n",
    "print(minstack.getMin())"
   ]
  },
  {
   "cell_type": "code",
   "execution_count": 29,
   "id": "aad6a50d",
   "metadata": {},
   "outputs": [
    {
     "name": "stdout",
     "output_type": "stream",
     "text": [
      "6\n"
     ]
    }
   ],
   "source": [
    "def maxWater(height):\n",
    "    stack = []\n",
    "    n = len(height)\n",
    "    ans = 0\n",
    "    for i in range(n):\n",
    "        while(len(stack) != 0 and (height[stack[-1]] < height[i])):\n",
    "            pop_height = height[stack[-1]]\n",
    "            stack.pop()\n",
    "            if(len(stack) == 0):\n",
    "                break\n",
    "            distance = i - stack[-1] - 1\n",
    "            min_height = min(height[stack[-1]], height[i])-pop_height\n",
    "            ans += distance * min_height\n",
    "        stack.append(i)\n",
    "  \n",
    "    return ans\n",
    "\n",
    "height = [0, 1, 0, 2, 1, 0, 1, 3, 2, 1, 2, 1]\n",
    "print(maxWater(height))"
   ]
  },
  {
   "cell_type": "code",
   "execution_count": null,
   "id": "e2bbb603",
   "metadata": {},
   "outputs": [],
   "source": []
  }
 ],
 "metadata": {
  "kernelspec": {
   "display_name": "Python 3 (ipykernel)",
   "language": "python",
   "name": "python3"
  },
  "language_info": {
   "codemirror_mode": {
    "name": "ipython",
    "version": 3
   },
   "file_extension": ".py",
   "mimetype": "text/x-python",
   "name": "python",
   "nbconvert_exporter": "python",
   "pygments_lexer": "ipython3",
   "version": "3.9.13"
  }
 },
 "nbformat": 4,
 "nbformat_minor": 5
}
